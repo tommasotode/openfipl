{
 "cells": [
  {
   "cell_type": "code",
   "execution_count": null,
   "metadata": {},
   "outputs": [],
   "source": [
    "import pandas as pd\n",
    "import seaborn as sb\n",
    "import matplotlib.pyplot as plt\n",
    "\n",
    "directory = \"openipf-2024-10-26\"\n",
    "path = directory+\"/openipf-2024-10-26-469a3a20.csv\""
   ]
  },
  {
   "cell_type": "code",
   "execution_count": null,
   "metadata": {},
   "outputs": [],
   "source": [
    "data = pd.read_csv(path, low_memory=False)\n",
    "\n",
    "data = data[data[\"Sex\"] == \"M\"]\n",
    "data = data[data[\"Event\"] == \"SBD\"]\n",
    "data = data[data[\"Equipment\"] == \"Raw\"]\n",
    "data = data[data[\"Federation\"] == \"FIPL\"]\n",
    "data = data[data[\"WeightClassKg\"] == \"93\"]\n",
    "\n",
    "data['Date'] = pd.to_datetime(data[\"Date\"], errors='coerce')\n",
    "\n",
    "m = data.groupby('Date', as_index=False)['TotalKg'].mean()\n",
    "\n",
    "plt.figure(figsize=(16, 10))\n",
    "sb.lineplot(m, x=\"Date\", y=\"TotalKg\")"
   ]
  }
 ],
 "metadata": {
  "kernelspec": {
   "display_name": ".venv",
   "language": "python",
   "name": "python3"
  },
  "language_info": {
   "codemirror_mode": {
    "name": "ipython",
    "version": 3
   },
   "file_extension": ".py",
   "mimetype": "text/x-python",
   "name": "python",
   "nbconvert_exporter": "python",
   "pygments_lexer": "ipython3",
   "version": "3.12.7"
  }
 },
 "nbformat": 4,
 "nbformat_minor": 2
}
