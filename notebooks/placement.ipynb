{
 "cells": [
  {
   "cell_type": "code",
   "execution_count": null,
   "metadata": {},
   "outputs": [],
   "source": [
    "import pandas as pd\n",
    "import seaborn as sb\n",
    "import matplotlib.pyplot as plt\n",
    "\n",
    "directory = \"openipf-2024-10-26\"\n",
    "path = directory+\"/openipf-2024-10-26-469a3a20.csv\""
   ]
  },
  {
   "cell_type": "code",
   "execution_count": null,
   "metadata": {},
   "outputs": [],
   "source": [
    "data = pd.read_csv(path, low_memory=False)\n",
    "\n",
    "total = 600\n",
    "weight_class = \"83\"\n",
    "division = \"Junior\"\n",
    "\n",
    "data = data[data[\"Sex\"] == \"M\"]\n",
    "data = data[data[\"Event\"] == \"SBD\"]\n",
    "data = data[data[\"Equipment\"] == \"Raw\"]\n",
    "data = data[data[\"Federation\"] == \"FIPL\"]\n",
    "data = data[data[\"WeightClassKg\"] == weight_class]\n",
    "data = data[data[\"Division\"] == division]\n",
    "\n",
    "results = []\n",
    "for competition_name, group in data.groupby('MeetName'):\n",
    "  sorted_group = group.sort_values(by='TotalKg', ascending=False)\n",
    "\n",
    "  total_competitor = pd.DataFrame({\n",
    "    'TotalKg': [total],\n",
    "    'Place': [None],\n",
    "    'MeetName': [competition_name],\n",
    "    'Date': [group['Date'].iloc[0]]\n",
    "  })\n",
    "\n",
    "  combined = pd.concat([sorted_group, total_competitor], ignore_index=True)\n",
    "  combined_sorted = combined.sort_values(by='TotalKg', ascending=False)\n",
    "\n",
    "  position = (combined_sorted['TotalKg'] >= total).sum()\n",
    "  results.append({\n",
    "    'Competition': competition_name,\n",
    "    'Date': combined_sorted['Date'].iloc[0],\n",
    "    'TotalKg': total,\n",
    "    'Position': position\n",
    "  })\n",
    "\n",
    "res = pd.DataFrame(results)\n",
    "res['Date'] = pd.to_datetime(res['Date'])\n",
    "res = res.sort_values(by='Date')\n",
    "\n",
    "res"
   ]
  }
 ],
 "metadata": {
  "kernelspec": {
   "display_name": ".venv",
   "language": "python",
   "name": "python3"
  },
  "language_info": {
   "codemirror_mode": {
    "name": "ipython",
    "version": 3
   },
   "file_extension": ".py",
   "mimetype": "text/x-python",
   "name": "python",
   "nbconvert_exporter": "python",
   "pygments_lexer": "ipython3",
   "version": "3.12.7"
  }
 },
 "nbformat": 4,
 "nbformat_minor": 2
}
